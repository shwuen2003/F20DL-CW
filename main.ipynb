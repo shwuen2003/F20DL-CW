{
 "cells": [
  {
   "cell_type": "markdown",
   "id": "383dbf13-ce0e-4c6f-8b7c-7e7762228243",
   "metadata": {
    "editable": true,
    "slideshow": {
     "slide_type": ""
    },
    "tags": []
   },
   "source": [
    "## Here's the .ipynb to write the code!\n",
    "Group name: <br>\n",
    "Group members:"
   ]
  },
  {
   "cell_type": "code",
   "execution_count": 3,
   "id": "5134003a-43ad-40d9-9619-0a0198995988",
   "metadata": {},
   "outputs": [],
   "source": [
    "# import packages in this cell!\n",
    "import pandas as pd"
   ]
  },
  {
   "cell_type": "code",
   "execution_count": 4,
   "id": "95b41794-5c84-4487-8242-338092aa9e16",
   "metadata": {},
   "outputs": [
    {
     "name": "stdout",
     "output_type": "stream",
     "text": [
      "Hello World\n"
     ]
    }
   ],
   "source": [
    "# ..\n",
    "print (\"Hello World\")"
   ]
  },
  {
   "cell_type": "code",
   "execution_count": null,
   "id": "a35b794c-3fe5-404d-81df-87e6a54d6efe",
   "metadata": {},
   "outputs": [],
   "source": []
  }
 ],
 "metadata": {
  "kernelspec": {
   "display_name": "Python 3 (ipykernel)",
   "language": "python",
   "name": "python3"
  },
  "language_info": {
   "codemirror_mode": {
    "name": "ipython",
    "version": 3
   },
   "file_extension": ".py",
   "mimetype": "text/x-python",
   "name": "python",
   "nbconvert_exporter": "python",
   "pygments_lexer": "ipython3",
   "version": "3.12.4"
  }
 },
 "nbformat": 4,
 "nbformat_minor": 5
}
